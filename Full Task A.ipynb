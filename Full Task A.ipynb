{
 "cells": [
  {
   "cell_type": "code",
   "execution_count": 30,
   "id": "3dc22918-dce6-45b7-9ac1-cb14d0450e4c",
   "metadata": {},
   "outputs": [],
   "source": [
    "import pandas as pd\n",
    "import numpy as np"
   ]
  },
  {
   "cell_type": "code",
   "execution_count": 31,
   "id": "136e4894-f102-4dcc-a8a4-aec8e87287ff",
   "metadata": {},
   "outputs": [],
   "source": [
    "import matplotlib.pyplot as plt\n",
    "import seaborn as sns\n",
    "from sklearn.model_selection import train_test_split, StratifiedKFold, GridSearchCV\n",
    "from sklearn.preprocessing import StandardScaler, LabelEncoder\n",
    "from sklearn.ensemble import VotingClassifier, RandomForestClassifier, GradientBoostingClassifier, StackingClassifier\n",
    "from sklearn.linear_model import LogisticRegression\n",
    "from catboost import CatBoostClassifier\n",
    "from xgboost import XGBClassifier\n",
    "from lightgbm import LGBMClassifier\n",
    "from sklearn.metrics import f1_score\n",
    "from sklearn.pipeline import Pipeline"
   ]
  },
  {
   "cell_type": "code",
   "execution_count": 32,
   "id": "df2aff47-2b00-4135-a31d-dafded9d2df4",
   "metadata": {},
   "outputs": [],
   "source": [
    "train = pd.read_csv('train.csv')"
   ]
  },
  {
   "cell_type": "code",
   "execution_count": 33,
   "id": "d4466e0b-056b-4cdb-bac0-7e63879d28e0",
   "metadata": {},
   "outputs": [
    {
     "data": {
      "text/plain": [
       "(104000, 13)"
      ]
     },
     "execution_count": 33,
     "metadata": {},
     "output_type": "execute_result"
    }
   ],
   "source": [
    "train.shape"
   ]
  },
  {
   "cell_type": "code",
   "execution_count": 34,
   "id": "cfa6a9c6-f010-480e-a57b-f5b95ab6d24d",
   "metadata": {},
   "outputs": [
    {
     "data": {
      "text/html": [
       "<div>\n",
       "<style scoped>\n",
       "    .dataframe tbody tr th:only-of-type {\n",
       "        vertical-align: middle;\n",
       "    }\n",
       "\n",
       "    .dataframe tbody tr th {\n",
       "        vertical-align: top;\n",
       "    }\n",
       "\n",
       "    .dataframe thead th {\n",
       "        text-align: right;\n",
       "    }\n",
       "</style>\n",
       "<table border=\"1\" class=\"dataframe\">\n",
       "  <thead>\n",
       "    <tr style=\"text-align: right;\">\n",
       "      <th></th>\n",
       "      <th>id</th>\n",
       "      <th>machine_type</th>\n",
       "      <th>rot_speed_rpm</th>\n",
       "      <th>drive_moment</th>\n",
       "      <th>tool_usage_minutes</th>\n",
       "      <th>failure_flag</th>\n",
       "      <th>tool_wear_flag</th>\n",
       "      <th>heat_dissipation_flag</th>\n",
       "      <th>power_failure_flag</th>\n",
       "      <th>overstrain_flag</th>\n",
       "      <th>resonance_condition_flag</th>\n",
       "      <th>air_temperature</th>\n",
       "      <th>process_temperature</th>\n",
       "    </tr>\n",
       "  </thead>\n",
       "  <tbody>\n",
       "    <tr>\n",
       "      <th>89903</th>\n",
       "      <td>40892</td>\n",
       "      <td>M</td>\n",
       "      <td>1401</td>\n",
       "      <td>60.01</td>\n",
       "      <td>149</td>\n",
       "      <td>0</td>\n",
       "      <td>0</td>\n",
       "      <td>0</td>\n",
       "      <td>0</td>\n",
       "      <td>0</td>\n",
       "      <td>0</td>\n",
       "      <td>27.260</td>\n",
       "      <td>36.45</td>\n",
       "    </tr>\n",
       "    <tr>\n",
       "      <th>45936</th>\n",
       "      <td>113422</td>\n",
       "      <td>M</td>\n",
       "      <td>1486</td>\n",
       "      <td>46.05</td>\n",
       "      <td>9</td>\n",
       "      <td>0</td>\n",
       "      <td>0</td>\n",
       "      <td>0</td>\n",
       "      <td>0</td>\n",
       "      <td>0</td>\n",
       "      <td>0</td>\n",
       "      <td>26.224</td>\n",
       "      <td>35.65</td>\n",
       "    </tr>\n",
       "    <tr>\n",
       "      <th>94235</th>\n",
       "      <td>37707</td>\n",
       "      <td>L</td>\n",
       "      <td>1446</td>\n",
       "      <td>39.08</td>\n",
       "      <td>109</td>\n",
       "      <td>0</td>\n",
       "      <td>0</td>\n",
       "      <td>0</td>\n",
       "      <td>0</td>\n",
       "      <td>0</td>\n",
       "      <td>0</td>\n",
       "      <td>25.002</td>\n",
       "      <td>35.35</td>\n",
       "    </tr>\n",
       "  </tbody>\n",
       "</table>\n",
       "</div>"
      ],
      "text/plain": [
       "           id machine_type  rot_speed_rpm  drive_moment  tool_usage_minutes  \\\n",
       "89903   40892            M           1401         60.01                 149   \n",
       "45936  113422            M           1486         46.05                   9   \n",
       "94235   37707            L           1446         39.08                 109   \n",
       "\n",
       "       failure_flag  tool_wear_flag  heat_dissipation_flag  \\\n",
       "89903             0               0                      0   \n",
       "45936             0               0                      0   \n",
       "94235             0               0                      0   \n",
       "\n",
       "       power_failure_flag  overstrain_flag  resonance_condition_flag  \\\n",
       "89903                   0                0                         0   \n",
       "45936                   0                0                         0   \n",
       "94235                   0                0                         0   \n",
       "\n",
       "       air_temperature  process_temperature  \n",
       "89903           27.260                36.45  \n",
       "45936           26.224                35.65  \n",
       "94235           25.002                35.35  "
      ]
     },
     "execution_count": 34,
     "metadata": {},
     "output_type": "execute_result"
    }
   ],
   "source": [
    "train.sample(3)"
   ]
  },
  {
   "cell_type": "code",
   "execution_count": 35,
   "id": "04bd1b1c-4a8a-4e75-9d7c-3098264a1841",
   "metadata": {},
   "outputs": [
    {
     "data": {
      "text/plain": [
       "id                          0\n",
       "machine_type                0\n",
       "rot_speed_rpm               0\n",
       "drive_moment                0\n",
       "tool_usage_minutes          0\n",
       "failure_flag                0\n",
       "tool_wear_flag              0\n",
       "heat_dissipation_flag       0\n",
       "power_failure_flag          0\n",
       "overstrain_flag             0\n",
       "resonance_condition_flag    0\n",
       "air_temperature             0\n",
       "process_temperature         0\n",
       "dtype: int64"
      ]
     },
     "execution_count": 35,
     "metadata": {},
     "output_type": "execute_result"
    }
   ],
   "source": [
    "train.isna().sum()"
   ]
  },
  {
   "cell_type": "code",
   "execution_count": 36,
   "id": "4c96b543-414e-4e79-9cf8-a682dcb19f82",
   "metadata": {},
   "outputs": [
    {
     "name": "stdout",
     "output_type": "stream",
     "text": [
      "<class 'pandas.core.frame.DataFrame'>\n",
      "RangeIndex: 104000 entries, 0 to 103999\n",
      "Data columns (total 13 columns):\n",
      " #   Column                    Non-Null Count   Dtype  \n",
      "---  ------                    --------------   -----  \n",
      " 0   id                        104000 non-null  int64  \n",
      " 1   machine_type              104000 non-null  object \n",
      " 2   rot_speed_rpm             104000 non-null  int64  \n",
      " 3   drive_moment              104000 non-null  float64\n",
      " 4   tool_usage_minutes        104000 non-null  int64  \n",
      " 5   failure_flag              104000 non-null  int64  \n",
      " 6   tool_wear_flag            104000 non-null  int64  \n",
      " 7   heat_dissipation_flag     104000 non-null  int64  \n",
      " 8   power_failure_flag        104000 non-null  int64  \n",
      " 9   overstrain_flag           104000 non-null  int64  \n",
      " 10  resonance_condition_flag  104000 non-null  int64  \n",
      " 11  air_temperature           104000 non-null  float64\n",
      " 12  process_temperature       104000 non-null  float64\n",
      "dtypes: float64(3), int64(9), object(1)\n",
      "memory usage: 10.3+ MB\n"
     ]
    }
   ],
   "source": [
    "train.info()"
   ]
  },
  {
   "cell_type": "code",
   "execution_count": 37,
   "id": "d036fd83-8460-4e82-ad40-109b53d33915",
   "metadata": {},
   "outputs": [
    {
     "data": {
      "text/html": [
       "<div>\n",
       "<style scoped>\n",
       "    .dataframe tbody tr th:only-of-type {\n",
       "        vertical-align: middle;\n",
       "    }\n",
       "\n",
       "    .dataframe tbody tr th {\n",
       "        vertical-align: top;\n",
       "    }\n",
       "\n",
       "    .dataframe thead th {\n",
       "        text-align: right;\n",
       "    }\n",
       "</style>\n",
       "<table border=\"1\" class=\"dataframe\">\n",
       "  <thead>\n",
       "    <tr style=\"text-align: right;\">\n",
       "      <th></th>\n",
       "      <th>id</th>\n",
       "      <th>rot_speed_rpm</th>\n",
       "      <th>drive_moment</th>\n",
       "      <th>tool_usage_minutes</th>\n",
       "      <th>failure_flag</th>\n",
       "      <th>tool_wear_flag</th>\n",
       "      <th>heat_dissipation_flag</th>\n",
       "      <th>power_failure_flag</th>\n",
       "      <th>overstrain_flag</th>\n",
       "      <th>resonance_condition_flag</th>\n",
       "      <th>air_temperature</th>\n",
       "      <th>process_temperature</th>\n",
       "    </tr>\n",
       "  </thead>\n",
       "  <tbody>\n",
       "    <tr>\n",
       "      <th>count</th>\n",
       "      <td>104000.000000</td>\n",
       "      <td>104000.000000</td>\n",
       "      <td>104000.000000</td>\n",
       "      <td>104000.000000</td>\n",
       "      <td>104000.000000</td>\n",
       "      <td>104000.000000</td>\n",
       "      <td>104000.000000</td>\n",
       "      <td>104000.000000</td>\n",
       "      <td>104000.000000</td>\n",
       "      <td>104000.000000</td>\n",
       "      <td>104000.000000</td>\n",
       "      <td>104000.000000</td>\n",
       "    </tr>\n",
       "    <tr>\n",
       "      <th>mean</th>\n",
       "      <td>65091.603865</td>\n",
       "      <td>1503.875875</td>\n",
       "      <td>42.680517</td>\n",
       "      <td>118.181933</td>\n",
       "      <td>0.231894</td>\n",
       "      <td>0.055471</td>\n",
       "      <td>0.080808</td>\n",
       "      <td>0.058385</td>\n",
       "      <td>0.064442</td>\n",
       "      <td>0.048875</td>\n",
       "      <td>26.890451</td>\n",
       "      <td>36.798837</td>\n",
       "    </tr>\n",
       "    <tr>\n",
       "      <th>std</th>\n",
       "      <td>37539.426139</td>\n",
       "      <td>194.752195</td>\n",
       "      <td>11.471648</td>\n",
       "      <td>69.803328</td>\n",
       "      <td>0.422044</td>\n",
       "      <td>0.228899</td>\n",
       "      <td>0.272541</td>\n",
       "      <td>0.234470</td>\n",
       "      <td>0.245540</td>\n",
       "      <td>0.215608</td>\n",
       "      <td>1.868379</td>\n",
       "      <td>1.315479</td>\n",
       "    </tr>\n",
       "    <tr>\n",
       "      <th>min</th>\n",
       "      <td>2.000000</td>\n",
       "      <td>1183.000000</td>\n",
       "      <td>3.800000</td>\n",
       "      <td>0.000000</td>\n",
       "      <td>0.000000</td>\n",
       "      <td>0.000000</td>\n",
       "      <td>0.000000</td>\n",
       "      <td>0.000000</td>\n",
       "      <td>0.000000</td>\n",
       "      <td>0.000000</td>\n",
       "      <td>22.150000</td>\n",
       "      <td>32.650000</td>\n",
       "    </tr>\n",
       "    <tr>\n",
       "      <th>25%</th>\n",
       "      <td>32592.750000</td>\n",
       "      <td>1389.000000</td>\n",
       "      <td>35.910000</td>\n",
       "      <td>59.000000</td>\n",
       "      <td>0.000000</td>\n",
       "      <td>0.000000</td>\n",
       "      <td>0.000000</td>\n",
       "      <td>0.000000</td>\n",
       "      <td>0.000000</td>\n",
       "      <td>0.000000</td>\n",
       "      <td>25.228000</td>\n",
       "      <td>35.650000</td>\n",
       "    </tr>\n",
       "    <tr>\n",
       "      <th>50%</th>\n",
       "      <td>65123.500000</td>\n",
       "      <td>1466.000000</td>\n",
       "      <td>43.100000</td>\n",
       "      <td>122.000000</td>\n",
       "      <td>0.000000</td>\n",
       "      <td>0.000000</td>\n",
       "      <td>0.000000</td>\n",
       "      <td>0.000000</td>\n",
       "      <td>0.000000</td>\n",
       "      <td>0.000000</td>\n",
       "      <td>27.067000</td>\n",
       "      <td>37.050000</td>\n",
       "    </tr>\n",
       "    <tr>\n",
       "      <th>75%</th>\n",
       "      <td>97627.250000</td>\n",
       "      <td>1577.000000</td>\n",
       "      <td>50.650000</td>\n",
       "      <td>183.000000</td>\n",
       "      <td>0.000000</td>\n",
       "      <td>0.000000</td>\n",
       "      <td>0.000000</td>\n",
       "      <td>0.000000</td>\n",
       "      <td>0.000000</td>\n",
       "      <td>0.000000</td>\n",
       "      <td>28.117000</td>\n",
       "      <td>37.650000</td>\n",
       "    </tr>\n",
       "    <tr>\n",
       "      <th>max</th>\n",
       "      <td>130000.000000</td>\n",
       "      <td>2595.000000</td>\n",
       "      <td>76.600000</td>\n",
       "      <td>246.000000</td>\n",
       "      <td>1.000000</td>\n",
       "      <td>1.000000</td>\n",
       "      <td>1.000000</td>\n",
       "      <td>1.000000</td>\n",
       "      <td>1.000000</td>\n",
       "      <td>1.000000</td>\n",
       "      <td>31.250000</td>\n",
       "      <td>40.650000</td>\n",
       "    </tr>\n",
       "  </tbody>\n",
       "</table>\n",
       "</div>"
      ],
      "text/plain": [
       "                  id  rot_speed_rpm   drive_moment  tool_usage_minutes  \\\n",
       "count  104000.000000  104000.000000  104000.000000       104000.000000   \n",
       "mean    65091.603865    1503.875875      42.680517          118.181933   \n",
       "std     37539.426139     194.752195      11.471648           69.803328   \n",
       "min         2.000000    1183.000000       3.800000            0.000000   \n",
       "25%     32592.750000    1389.000000      35.910000           59.000000   \n",
       "50%     65123.500000    1466.000000      43.100000          122.000000   \n",
       "75%     97627.250000    1577.000000      50.650000          183.000000   \n",
       "max    130000.000000    2595.000000      76.600000          246.000000   \n",
       "\n",
       "        failure_flag  tool_wear_flag  heat_dissipation_flag  \\\n",
       "count  104000.000000   104000.000000          104000.000000   \n",
       "mean        0.231894        0.055471               0.080808   \n",
       "std         0.422044        0.228899               0.272541   \n",
       "min         0.000000        0.000000               0.000000   \n",
       "25%         0.000000        0.000000               0.000000   \n",
       "50%         0.000000        0.000000               0.000000   \n",
       "75%         0.000000        0.000000               0.000000   \n",
       "max         1.000000        1.000000               1.000000   \n",
       "\n",
       "       power_failure_flag  overstrain_flag  resonance_condition_flag  \\\n",
       "count       104000.000000    104000.000000             104000.000000   \n",
       "mean             0.058385         0.064442                  0.048875   \n",
       "std              0.234470         0.245540                  0.215608   \n",
       "min              0.000000         0.000000                  0.000000   \n",
       "25%              0.000000         0.000000                  0.000000   \n",
       "50%              0.000000         0.000000                  0.000000   \n",
       "75%              0.000000         0.000000                  0.000000   \n",
       "max              1.000000         1.000000                  1.000000   \n",
       "\n",
       "       air_temperature  process_temperature  \n",
       "count    104000.000000        104000.000000  \n",
       "mean         26.890451            36.798837  \n",
       "std           1.868379             1.315479  \n",
       "min          22.150000            32.650000  \n",
       "25%          25.228000            35.650000  \n",
       "50%          27.067000            37.050000  \n",
       "75%          28.117000            37.650000  \n",
       "max          31.250000            40.650000  "
      ]
     },
     "execution_count": 37,
     "metadata": {},
     "output_type": "execute_result"
    }
   ],
   "source": [
    "train.describe()"
   ]
  },
  {
   "cell_type": "code",
   "execution_count": 38,
   "id": "1d17f0ac-a544-43c8-8d52-90afd918f4a3",
   "metadata": {},
   "outputs": [],
   "source": [
    "test = pd.read_csv('test.csv')"
   ]
  },
  {
   "cell_type": "code",
   "execution_count": 39,
   "id": "976425e2-9cca-4e79-bbb0-1e5363240344",
   "metadata": {},
   "outputs": [],
   "source": [
    "test_ids = test['id'].copy()"
   ]
  },
  {
   "cell_type": "code",
   "execution_count": 40,
   "id": "5d2677ad-9c96-48fa-a96b-e6f01c356b6a",
   "metadata": {},
   "outputs": [],
   "source": [
    "encoder = LabelEncoder()\n",
    "train['machine_type'] = encoder.fit_transform(train['machine_type'])\n",
    "test['machine_type'] = encoder.fit_transform(test['machine_type'])"
   ]
  },
  {
   "cell_type": "code",
   "execution_count": 41,
   "id": "3fbe4ced-42dd-4cc1-8e6f-546a71ddb225",
   "metadata": {},
   "outputs": [],
   "source": [
    "X = train.drop(columns=[\"id\", \"failure_flag\"])\n",
    "y = train[\"failure_flag\"]\n",
    "X_test = test.drop(columns=[\"id\"])"
   ]
  },
  {
   "cell_type": "code",
   "execution_count": 42,
   "id": "9258bd00-8823-4da3-94ad-199ecf66db30",
   "metadata": {},
   "outputs": [],
   "source": [
    "X[\"temp_diff\"] = X[\"process_temperature\"] - X[\"air_temperature\"]\n",
    "X_test[\"temp_diff\"] = X_test[\"process_temperature\"] - X_test[\"air_temperature\"]"
   ]
  },
  {
   "cell_type": "code",
   "execution_count": 43,
   "id": "3c11a1fb-46b8-4932-a79a-04d0557ac570",
   "metadata": {},
   "outputs": [],
   "source": [
    "X[\"log_tool_usage\"] = np.log1p(X[\"tool_usage_minutes\"])\n",
    "X_test[\"log_tool_usage\"] = np.log1p(X_test[\"tool_usage_minutes\"])\n",
    "\n",
    "X[\"log_drive_moment\"] = np.log1p(X[\"drive_moment\"])\n",
    "X_test[\"log_drive_moment\"] = np.log1p(X_test[\"drive_moment\"])\n",
    "\n",
    "X[\"overheat_risk\"] = X[\"heat_dissipation_flag\"] & X[\"power_failure_flag\"]\n",
    "X_test[\"overheat_risk\"] = X_test[\"heat_dissipation_flag\"] & X_test[\"power_failure_flag\"]\n",
    "\n",
    "X[\"stress_risk\"] = X[\"overstrain_flag\"] & X[\"resonance_condition_flag\"]\n",
    "X_test[\"stress_risk\"] = X_test[\"overstrain_flag\"] & X_test[\"resonance_condition_flag\"]"
   ]
  },
  {
   "cell_type": "code",
   "execution_count": 44,
   "id": "1a1c3db8-25b0-47dc-b4a8-abbc05c44dc1",
   "metadata": {},
   "outputs": [],
   "source": [
    "X_train, X_val, y_train, y_val = train_test_split(X, y, test_size=0.2, random_state=42, stratify=y)"
   ]
  },
  {
   "cell_type": "code",
   "execution_count": 45,
   "id": "f864f631-dc76-4087-94c0-915ff80f094c",
   "metadata": {},
   "outputs": [],
   "source": [
    "kf = StratifiedKFold(n_splits=5, shuffle=True, random_state=42)"
   ]
  },
  {
   "cell_type": "code",
   "execution_count": 54,
   "id": "cc3d9641-9762-4601-92a3-88ebbd8a460f",
   "metadata": {},
   "outputs": [],
   "source": [
    "models = {\n",
    "    \"RandomForest\": RandomForestClassifier(random_state=42),\n",
    "    \"XGBoost\": XGBClassifier(n_estimators=1000, use_label_encoder=False, eval_metric='logloss', random_state=42),\n",
    "    \"LightGBM\": LGBMClassifier(random_state=42),\n",
    "    \"LogisticRegression\": LogisticRegression(max_iter=1000, random_state=42),\n",
    "    \"GradientBoosting\": GradientBoostingClassifier(random_state=42)\n",
    "}"
   ]
  },
  {
   "cell_type": "code",
   "execution_count": 55,
   "id": "8a297666-a932-4951-8d34-5eab954fb2ee",
   "metadata": {},
   "outputs": [
    {
     "name": "stdout",
     "output_type": "stream",
     "text": [
      "RandomForest F1-score: 0.9997\n",
      "XGBoost F1-score: 0.9998\n",
      "[LightGBM] [Info] Number of positive: 19294, number of negative: 63906\n",
      "[LightGBM] [Info] Auto-choosing row-wise multi-threading, the overhead of testing was 0.002409 seconds.\n",
      "You can set `force_row_wise=true` to remove the overhead.\n",
      "And if memory is not enough, you can set `force_col_wise=true`.\n",
      "[LightGBM] [Info] Total Bins 1864\n",
      "[LightGBM] [Info] Number of data points in the train set: 83200, number of used features: 15\n",
      "[LightGBM] [Info] [binary:BoostFromScore]: pavg=0.231899 -> initscore=-1.197619\n",
      "[LightGBM] [Info] Start training from score -1.197619\n",
      "[LightGBM] [Warning] No further splits with positive gain, best gain: -inf\n",
      "LightGBM F1-score: 0.9997\n",
      "LogisticRegression F1-score: 0.9997\n",
      "GradientBoosting F1-score: 0.9997\n"
     ]
    }
   ],
   "source": [
    "for name, model in models.items():\n",
    "    model.fit(X_train, y_train)\n",
    "    y_pred = model.predict(X_val)\n",
    "    score = f1_score(y_val, y_pred)\n",
    "    print(f\"{name} F1-score: {score:.4f}\")"
   ]
  },
  {
   "cell_type": "code",
   "execution_count": 73,
   "id": "1c6ee68b-f12a-48e8-bd4f-03037f7f0a4f",
   "metadata": {},
   "outputs": [
    {
     "name": "stdout",
     "output_type": "stream",
     "text": [
      "Файл submission.csv создан!\n"
     ]
    }
   ],
   "source": [
    "final_model = XGBClassifier(n_estimators=500, use_label_encoder=False, eval_metric='logloss', random_state=42)\n",
    "final_model.fit(X, y)\n",
    "final_predictions = final_model.predict(X_test)\n",
    "\n",
    "# Создание файла submission.csv\n",
    "submission = pd.DataFrame({\"id\": test_ids, \"failure_flag\": final_predictions})\n",
    "submission.to_csv(\"submission.csv\", index=False)\n",
    "print(\"Файл submission.csv создан!\")\n"
   ]
  },
  {
   "cell_type": "code",
   "execution_count": null,
   "id": "6bdaa816-0d2b-4a83-b38e-732df42be5ae",
   "metadata": {},
   "outputs": [],
   "source": []
  }
 ],
 "metadata": {
  "kernelspec": {
   "display_name": "Python 3 (ipykernel)",
   "language": "python",
   "name": "python3"
  },
  "language_info": {
   "codemirror_mode": {
    "name": "ipython",
    "version": 3
   },
   "file_extension": ".py",
   "mimetype": "text/x-python",
   "name": "python",
   "nbconvert_exporter": "python",
   "pygments_lexer": "ipython3",
   "version": "3.12.7"
  }
 },
 "nbformat": 4,
 "nbformat_minor": 5
}
